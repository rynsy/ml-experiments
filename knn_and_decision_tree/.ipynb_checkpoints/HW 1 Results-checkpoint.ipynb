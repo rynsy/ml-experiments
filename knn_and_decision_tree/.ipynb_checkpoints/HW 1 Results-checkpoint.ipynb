{
 "metadata": {
  "name": "",
  "signature": "sha256:c78334b382b8f1f31fe693f1bb158548218e8469ec581ca31c9400848897bc20"
 },
 "nbformat": 3,
 "nbformat_minor": 0,
 "worksheets": [
  {
   "cells": [
    {
     "cell_type": "code",
     "collapsed": false,
     "input": [
      "from data_wrangler import *\n",
      "from cross_validator import *\n",
      "from decision_tree import *\n",
      "from sketch_artist import *\n",
      "from knn import *\n",
      "import numpy as np"
     ],
     "language": "python",
     "metadata": {},
     "outputs": []
    }
   ],
   "metadata": {}
  }
 ]
}